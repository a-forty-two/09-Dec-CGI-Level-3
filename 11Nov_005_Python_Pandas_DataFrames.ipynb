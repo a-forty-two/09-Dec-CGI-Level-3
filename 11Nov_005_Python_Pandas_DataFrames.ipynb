{
  "cells": [
    {
      "cell_type": "markdown",
      "metadata": {
        "id": "view-in-github",
        "colab_type": "text"
      },
      "source": [
        "<a href=\"https://colab.research.google.com/github/a-forty-two/EY_batch8_11Nov_AIplusOpenAI/blob/main/11Nov_005_Python_Pandas_DataFrames.ipynb\" target=\"_parent\"><img src=\"https://colab.research.google.com/assets/colab-badge.svg\" alt=\"Open In Colab\"/></a>"
      ]
    },
    {
      "cell_type": "code",
      "execution_count": null,
      "metadata": {
        "id": "A7NPZXijaOYd"
      },
      "outputs": [],
      "source": [
        "import numpy as np\n",
        "import pandas as pd\n",
        "import datetime"
      ]
    },
    {
      "cell_type": "markdown",
      "metadata": {
        "id": "2O8lAuahaOYg"
      },
      "source": [
        "## DataFrames"
      ]
    },
    {
      "cell_type": "code",
      "execution_count": null,
      "metadata": {
        "id": "jk9rjBBraOYi"
      },
      "outputs": [],
      "source": [
        "students = ['Alice', 'Bob', 'Emily', 'Charlie']"
      ]
    },
    {
      "cell_type": "code",
      "execution_count": null,
      "metadata": {
        "id": "P7nhifgwaOYi"
      },
      "outputs": [],
      "source": [
        "scores = [90, 80, 65, 50]"
      ]
    },
    {
      "cell_type": "code",
      "execution_count": null,
      "metadata": {
        "id": "VFWgbyHGaOYi"
      },
      "outputs": [],
      "source": [
        "exam_results = pd.DataFrame(\n",
        "    {\n",
        "        \"name\": students,\n",
        "        \"scores\": scores\n",
        "    }\n",
        ")"
      ]
    },
    {
      "cell_type": "code",
      "execution_count": null,
      "metadata": {
        "id": "7vLnRN8BaOYj"
      },
      "outputs": [],
      "source": [
        "exam_results"
      ]
    },
    {
      "cell_type": "markdown",
      "metadata": {
        "id": "a2UxbCTUaOYj"
      },
      "source": [
        "### Searching (SQL SELECT)"
      ]
    },
    {
      "cell_type": "code",
      "execution_count": null,
      "metadata": {
        "id": "lFc8EU0PaOYj"
      },
      "outputs": [],
      "source": [
        "exam_results.loc[0, 'scores']"
      ]
    },
    {
      "cell_type": "code",
      "execution_count": null,
      "metadata": {
        "id": "cuROaYYxaOYk"
      },
      "outputs": [],
      "source": [
        "exam_results.loc[:, 'scores']"
      ]
    },
    {
      "cell_type": "code",
      "execution_count": null,
      "metadata": {
        "id": "beri-MjQaOYk"
      },
      "outputs": [],
      "source": [
        "exam_results.loc[2, :]"
      ]
    },
    {
      "cell_type": "code",
      "execution_count": null,
      "metadata": {
        "id": "JEw61oNLaOYk"
      },
      "outputs": [],
      "source": [
        "exam_results['scores']"
      ]
    },
    {
      "cell_type": "code",
      "execution_count": null,
      "metadata": {
        "id": "fWrYgAC2aOYl"
      },
      "outputs": [],
      "source": [
        "exam_results[['name', 'scores']]"
      ]
    },
    {
      "cell_type": "markdown",
      "metadata": {
        "id": "KHOKsKWuaOYl"
      },
      "source": [
        "### Add Columns"
      ]
    },
    {
      "cell_type": "markdown",
      "metadata": {
        "id": "Yojw6y-oaOYl"
      },
      "source": [
        "We can also easily add columns"
      ]
    },
    {
      "cell_type": "code",
      "execution_count": null,
      "metadata": {
        "id": "SkpvNnbFaOYl"
      },
      "outputs": [],
      "source": [
        "gender = ['female', 'male', 'female', 'male']"
      ]
    },
    {
      "cell_type": "code",
      "execution_count": null,
      "metadata": {
        "id": "hf7gZClDaOYm"
      },
      "outputs": [],
      "source": [
        "exam_results['gender'] = gender"
      ]
    },
    {
      "cell_type": "code",
      "execution_count": null,
      "metadata": {
        "id": "F045QIIkaOYm"
      },
      "outputs": [],
      "source": [
        "exam_results"
      ]
    },
    {
      "cell_type": "code",
      "execution_count": null,
      "metadata": {
        "id": "Hg2OPDu8aOYm"
      },
      "outputs": [],
      "source": [
        "exam_results['scores']"
      ]
    },
    {
      "cell_type": "markdown",
      "metadata": {
        "id": "_9qwYtkuaOYm"
      },
      "source": [
        "### Remove Columns"
      ]
    },
    {
      "cell_type": "code",
      "execution_count": null,
      "metadata": {
        "id": "YdB7TsUGaOYm"
      },
      "outputs": [],
      "source": [
        "exam_results.drop('name', axis=1)"
      ]
    },
    {
      "cell_type": "markdown",
      "metadata": {
        "id": "ZVSprJNFaOYm"
      },
      "source": [
        "### Column names and Row Index"
      ]
    },
    {
      "cell_type": "code",
      "execution_count": null,
      "metadata": {
        "id": "YToNwEkkaOYn"
      },
      "outputs": [],
      "source": [
        "exam_results.columns"
      ]
    },
    {
      "cell_type": "code",
      "execution_count": null,
      "metadata": {
        "id": "Cd1lEdTPaOYn"
      },
      "outputs": [],
      "source": [
        "exam_results.index"
      ]
    },
    {
      "cell_type": "markdown",
      "metadata": {
        "id": "6eXRtwb_aOYn"
      },
      "source": [
        "### Renaming Columns"
      ]
    },
    {
      "cell_type": "code",
      "execution_count": null,
      "metadata": {
        "id": "i8X9xH7daOYn"
      },
      "outputs": [],
      "source": [
        "exam_results.rename({'name': 'first_name'}, axis=1)"
      ]
    },
    {
      "cell_type": "markdown",
      "metadata": {
        "id": "M3eF1gxYaOYo"
      },
      "source": [
        "### Dealing with missing values"
      ]
    },
    {
      "cell_type": "markdown",
      "metadata": {
        "id": "FIIh5p-MaOYo"
      },
      "source": [
        "Dataframes have specific commands which help with the handling of missing data"
      ]
    },
    {
      "cell_type": "code",
      "execution_count": null,
      "metadata": {
        "id": "cqRV9xEyaOYo"
      },
      "outputs": [],
      "source": [
        "sparse = pd.DataFrame({'a': [1, 2, 3],\n",
        "                       'b': [np.nan, 4, np.nan],\n",
        "                       'c': [5, np.nan, np.nan]})"
      ]
    },
    {
      "cell_type": "code",
      "execution_count": null,
      "metadata": {
        "id": "OXJ8m14oaOYo"
      },
      "outputs": [],
      "source": [
        "sparse"
      ]
    },
    {
      "cell_type": "code",
      "execution_count": null,
      "metadata": {
        "id": "E1e6KE_haOYp"
      },
      "outputs": [],
      "source": [
        "sparse.isna()"
      ]
    },
    {
      "cell_type": "code",
      "execution_count": null,
      "metadata": {
        "id": "grQrBJLnaOYp"
      },
      "outputs": [],
      "source": [
        "sparse.fillna(0)"
      ]
    },
    {
      "cell_type": "code",
      "execution_count": null,
      "metadata": {
        "id": "ZUR1m6cZaOYp"
      },
      "outputs": [],
      "source": [
        "sparse.dropna(axis=1)"
      ]
    },
    {
      "cell_type": "markdown",
      "metadata": {
        "id": "PBxrfHGHaOYp"
      },
      "source": [
        "### Group by"
      ]
    },
    {
      "cell_type": "code",
      "execution_count": null,
      "metadata": {
        "id": "7kkp4V1HaOYq"
      },
      "outputs": [],
      "source": [
        "exam_results.groupby('gender').mean()"
      ]
    },
    {
      "cell_type": "code",
      "execution_count": null,
      "metadata": {
        "id": "ZIrnHmEhaOYq"
      },
      "outputs": [],
      "source": [
        "mylist = [1,2,1,2]\n",
        "\n",
        "exam_results.groupby(mylist).get_group(1)"
      ]
    },
    {
      "cell_type": "code",
      "execution_count": null,
      "metadata": {
        "id": "4NV6pi0_aOYq"
      },
      "outputs": [],
      "source": [
        "exam_results.groupby(mylist).get_group(2)"
      ]
    },
    {
      "cell_type": "markdown",
      "metadata": {
        "id": "AndD7y4PaOYq"
      },
      "source": [
        "Thus, suppose we want to group people who obtained marks above or below 70, then we could do:"
      ]
    },
    {
      "cell_type": "code",
      "execution_count": null,
      "metadata": {
        "id": "SN1YqWFVaOYq"
      },
      "outputs": [],
      "source": [
        "above_70 = exam_results['scores'] > 70\n",
        "above_70"
      ]
    },
    {
      "cell_type": "markdown",
      "metadata": {
        "id": "oUQb1XhaaOYr"
      },
      "source": [
        "This will compute the mean scores of students who scored above or below 70"
      ]
    },
    {
      "cell_type": "code",
      "execution_count": null,
      "metadata": {
        "id": "TJX8FPPHaOYs"
      },
      "outputs": [],
      "source": [
        "exam_results.groupby(above_70).mean()"
      ]
    },
    {
      "cell_type": "markdown",
      "metadata": {
        "id": "hn9dJnCUaOYs"
      },
      "source": [
        "### Merge and Joining"
      ]
    },
    {
      "cell_type": "code",
      "execution_count": null,
      "metadata": {
        "id": "49emD5VlaOYs"
      },
      "outputs": [],
      "source": [
        "contacts = pd.DataFrame(\n",
        "    {\n",
        "        'name' : ['Alice', 'Charlie'],\n",
        "        'tel'  : ['+44 1234 5678', '+44 3245 5564']\n",
        "    }\n",
        ")"
      ]
    },
    {
      "cell_type": "code",
      "execution_count": null,
      "metadata": {
        "id": "UnER0OlcaOYt"
      },
      "outputs": [],
      "source": [
        "exam_results.merge(contacts, left_on='name', right_on='name')   # defaults to inner join"
      ]
    },
    {
      "cell_type": "code",
      "execution_count": null,
      "metadata": {
        "id": "03mYZC7_aOYt"
      },
      "outputs": [],
      "source": [
        "exam_results.merge(contacts, left_on='name', right_on='name', how='outer')"
      ]
    }
  ],
  "metadata": {
    "kernelspec": {
      "display_name": "Python 3",
      "language": "python",
      "name": "python3"
    },
    "language_info": {
      "codemirror_mode": {
        "name": "ipython",
        "version": 3
      },
      "file_extension": ".py",
      "mimetype": "text/x-python",
      "name": "python",
      "nbconvert_exporter": "python",
      "pygments_lexer": "ipython3",
      "version": "3.7.4"
    },
    "colab": {
      "provenance": [],
      "include_colab_link": true
    }
  },
  "nbformat": 4,
  "nbformat_minor": 0
}